{
 "cells": [
  {
   "cell_type": "markdown",
   "id": "61026c6c",
   "metadata": {},
   "source": [
    "# Annotation and genotyping of tandem repeats in *Arabidopsis thaliana* "
   ]
  },
  {
   "cell_type": "markdown",
   "id": "783bbb14",
   "metadata": {},
   "source": [
    "By Adam English (Adam.English@bcm.edu) and Egor Dolzhenko (edolzhenko@pacificbiosciences.com)"
   ]
  },
  {
   "cell_type": "code",
   "execution_count": 46,
   "id": "ba9262a6-cf04-496c-be37-3a1cbf385723",
   "metadata": {},
   "outputs": [],
   "source": [
    "import os\n",
    "import sys\n",
    "import json\n",
    "import scipy\n",
    "import pathlib\n",
    "import shutil\n",
    "import numpy as np\n",
    "from pandas import DataFrame\n",
    "import matplotlib.pyplot as plt\n",
    "import matplotlib.patches as patches\n",
    "\n",
    "%matplotlib inline\n",
    "plt.rcParams['figure.figsize'] = [16.5, 5]\n",
    "plt.rcParams['font.size'] = 12"
   ]
  },
  {
   "cell_type": "markdown",
   "id": "10fc01ff-8321-47b6-b720-c4d468f944e0",
   "metadata": {},
   "source": [
    "## Prepare inputs"
   ]
  },
  {
   "cell_type": "code",
   "execution_count": 63,
   "id": "904998a0-0fc8-4551-a41c-4ea47cf0bec9",
   "metadata": {},
   "outputs": [],
   "source": [
    "# TAIR10 reference genome\n",
    "genome_path = \"input/TAIR10.fa\"\n",
    "\n",
    "# Simple repeats from UCSC\n",
    "simple_repeats_path = \"input/simple_repeats.bed\"\n",
    "\n",
    "# A HiFi BAM file aligned to TAIR10 (https://ngdc.cncb.ac.cn/gsa/browse/CRA004538/CRR302668)\n",
    "reads_path = \"input/CRR302668.bam\"\n",
    "\n",
    "# A path to TRGT binary\n",
    "trgt=\"/home/edolzhenko/flash/projects/trgt/trgt/target/x86_64-unknown-linux-gnu/release/trgt\"\n",
    "\n",
    "assert pathlib.Path(genome_path).is_file(), \"The genome file is missing\"\n",
    "assert pathlib.Path(simple_repeats_path).is_file(), \"The simple repeats file is missing\"\n",
    "assert pathlib.Path(reads_path).is_file(), \"BAM file with reads is missing\"\n",
    "assert shutil.which(\"trf\"), \"TRF is not installed\"\n",
    "assert shutil.which(\"samtools\"), \"Samtools is not installed\"\n",
    "assert shutil.which(\"bedtools\"), \"Bedtools is not installed\"\n",
    "assert shutil.which(trgt), \"TRGT is not installed\""
   ]
  },
  {
   "cell_type": "code",
   "execution_count": 40,
   "id": "1d2191a4",
   "metadata": {},
   "outputs": [],
   "source": [
    "! mkdir -p scratch output"
   ]
  },
  {
   "cell_type": "markdown",
   "id": "7bcd1560",
   "metadata": {},
   "source": [
    "## Index the reference"
   ]
  },
  {
   "cell_type": "code",
   "execution_count": 33,
   "id": "bb73ea8b-bdfd-45ab-b55c-11d3a0f65689",
   "metadata": {},
   "outputs": [],
   "source": [
    "! samtools faidx {genome_path}"
   ]
  },
  {
   "cell_type": "markdown",
   "id": "723dc9e1",
   "metadata": {},
   "source": [
    "## Merging intervals\n",
    "- Intra-merge the input regions\n",
    "- Filter to those between 10 and 50kbp in span\n",
    "- For Arabidopsis, clean the chromosome name to upper case\n",
    "- Also removing ChrCp, renaming ChrMt to chrM\n",
    "- Slop the boundaries ±25bp\n",
    "- Remerge the files (boundaries might cause some to overlap"
   ]
  },
  {
   "cell_type": "code",
   "execution_count": 38,
   "id": "4091b904",
   "metadata": {},
   "outputs": [],
   "source": [
    "%%bash -s {simple_repeats_path} {genome_path}\n",
    "\n",
    "simple_repeats=$1\n",
    "genome=$2\n",
    "\n",
    "bedtools merge -i $simple_repeats \\\n",
    "    | awk '($3 - $2) >= 10 && ($3 - $2) < 50000' \\\n",
    "    | awk '{print toupper(substr($0, 1, 1)) substr( $0, 2 );}' \\\n",
    "    | bedtools sort -i - \\\n",
    "    | grep -v ChrCp | sed 's/ChrMt/ChrM/' \\\n",
    "    | bedtools slop -b 25 -g $genome.fai \\\n",
    "    | bedtools merge \\\n",
    "    > scratch/candidates.bed"
   ]
  },
  {
   "cell_type": "code",
   "execution_count": 39,
   "id": "19ff931c",
   "metadata": {},
   "outputs": [
    {
     "name": "stdout",
     "output_type": "stream",
     "text": [
      "Chr1\t0\t131\r\n",
      "Chr1\t4275\t4357\r\n",
      "Chr1\t6541\t6693\r\n",
      "Chr1\t8643\t8724\r\n",
      "Chr1\t16600\t16676\r\n",
      "Chr1\t17010\t17503\r\n",
      "Chr1\t37710\t37802\r\n",
      "Chr1\t41335\t41410\r\n",
      "Chr1\t55848\t56308\r\n",
      "Chr1\t62321\t62397\r\n"
     ]
    }
   ],
   "source": [
    "! head scratch/candidates.bed"
   ]
  },
  {
   "cell_type": "markdown",
   "id": "462c92bc",
   "metadata": {},
   "source": [
    "## Annotating sequence"
   ]
  },
  {
   "cell_type": "code",
   "execution_count": 42,
   "id": "d52f83dc",
   "metadata": {},
   "outputs": [],
   "source": [
    "%%bash -s {genome_path}\n",
    "\n",
    "genome=$1\n",
    "\n",
    "# Extract the candidate region sequences\n",
    "# Adding 1 since the Arabidopsis Simple Repeats are 0-based\n",
    "samtools faidx -r <(awk '{print $1 \":\" $2 + 1 \"-\" $3}' scratch/candidates.bed) $genome > scratch/tr_regions.fasta\n",
    "\n",
    "# Run TRF and reformat for TRGT\n",
    "trf scratch/tr_regions.fasta 3 7 7 80 5 5 500 -h -ngs > scratch/trf_output.txt"
   ]
  },
  {
   "cell_type": "markdown",
   "id": "29a6cba3",
   "metadata": {},
   "source": [
    "## Convert TRF outputs into 0-based bed files"
   ]
  },
  {
   "cell_type": "code",
   "execution_count": 47,
   "id": "dde0701a",
   "metadata": {},
   "outputs": [],
   "source": [
    "def parse_trf_output(tr_fn):\n",
    "    \"\"\"\n",
    "    Reads the output from tandem repeat finder\n",
    "    translates the coordinates from the 'samtools faidx' fetched sequence header \n",
    "    back to whole genome coordinates\n",
    "\n",
    "    returns hits as a locus\n",
    "    \"\"\"\n",
    "    trf_cols = [(\"start\", int), (\"end\", int), (\"period\", int), (\"copies\", float), \n",
    "                (\"consize\", int), (\"pctmat\", int), (\"pctindel\", int), (\"score\", int), \n",
    "                (\"A\", int), (\"C\", int), (\"G\", int), (\"T\",  int), (\"entropy\", float),\n",
    "                (\"repeat\", str), (\"upflank\", str), (\"sequence\", str), (\"dnflank\", str)]\n",
    "    with open(tr_fn, 'r') as fh:\n",
    "        name = fh.readline()\n",
    "        if name == \"\":  # no hits\n",
    "            return\n",
    "        name = name.strip()[1:]\n",
    "        chrom, coords = name.split(':')\n",
    "        wgs_start, wgs_end = coords.split('-')\n",
    "        # 0-based correction\n",
    "        wgs_start = int(wgs_start) - 2 \n",
    "        # -1 because faidx is 1-based (found in annotation header)\n",
    "        # & -1 because trf start is 1-based (found in start)\n",
    "        wgs_end = int(wgs_end)\n",
    "        cur_hits = []\n",
    "        while True:\n",
    "            line = fh.readline()\n",
    "            if line == \"\":\n",
    "                break\n",
    "            if line.startswith(\"@\"):\n",
    "                yield cur_hits\n",
    "                cur_hits = []\n",
    "                name = line.strip()[1:]\n",
    "                chrom, coords = name.split(':')\n",
    "                wgs_start, wgs_end = coords.split('-')\n",
    "                wgs_start = int(wgs_start) - 2 # 0-based correction\n",
    "                wgs_end = int(wgs_end)\n",
    "                continue\n",
    "            line = line.strip().split(' ')\n",
    "            data = {x[0]: x[1](y) for x, y in zip(\n",
    "                trf_cols, line) if x[1] is not None}\n",
    "            data['chrom'] = chrom\n",
    "            data['in_region_start'] = wgs_start\n",
    "            data['in_region_end'] = wgs_end\n",
    "            data['start'] += wgs_start\n",
    "            data['end'] += wgs_start\n",
    "            cur_hits.append(data)\n",
    "        yield cur_hits"
   ]
  },
  {
   "cell_type": "code",
   "execution_count": 93,
   "id": "7b3868f9",
   "metadata": {},
   "outputs": [
    {
     "data": {
      "text/plain": [
       "{'Chr1': 30427671,\n",
       " 'Chr2': 19698289,\n",
       " 'Chr3': 23459830,\n",
       " 'Chr4': 18585056,\n",
       " 'Chr5': 26975502,\n",
       " 'ChrC': 154478,\n",
       " 'ChrM': 367808}"
      ]
     },
     "execution_count": 93,
     "metadata": {},
     "output_type": "execute_result"
    }
   ],
   "source": [
    "chrom_lens = ! cat input/TAIR10.fa.fai\n",
    "chrom_lens = [rec.split()[:2] for rec in chrom_lens]\n",
    "chrom_lens = {chrom: int(length) for chrom, length in chrom_lens}\n",
    "chrom_lens"
   ]
  },
  {
   "cell_type": "code",
   "execution_count": 99,
   "id": "01b658e4",
   "metadata": {},
   "outputs": [],
   "source": [
    "def untangle_locus(data):\n",
    "    \"\"\"\n",
    "    Given a set of hits, get min start, max end and motif of longest spanning hit\n",
    "    \"\"\"\n",
    "    chrom = None\n",
    "    min_start = sys.maxsize\n",
    "    max_end = 0\n",
    "    longest_span = 0\n",
    "    seq = None\n",
    "\n",
    "    for i in data:\n",
    "        chrom = i['chrom']\n",
    "        if i['start'] < min_start:\n",
    "            min_start = i['start']\n",
    "        if i['end'] > max_end:\n",
    "            max_end = i['end']\n",
    "        span = i['end'] - i['start']\n",
    "        if span > longest_span:\n",
    "            longest_span = span\n",
    "            seq = i['repeat']\n",
    "    if min_start <= 1000 or abs(max_end - chrom_lens[chrom]) < 1000:\n",
    "        return None\n",
    "    fourth_col = f\"ID={chrom}_{min_start}_{max_end};MOTIFS={seq};STRUC=({seq})n\"\n",
    "    return f\"{chrom}\\t{min_start}\\t{max_end}\\t{fourth_col}\\n\""
   ]
  },
  {
   "cell_type": "code",
   "execution_count": 100,
   "id": "f66b6591",
   "metadata": {},
   "outputs": [],
   "source": [
    "with open(\"output/tair10_catalog.bed\", \"w\") as fout:\n",
    "    for locus in parse_trf_output(\"scratch/trf_output.txt\"):\n",
    "        rec = untangle_locus(locus)\n",
    "        if rec != None:\n",
    "            fout.write(rec)"
   ]
  },
  {
   "cell_type": "code",
   "execution_count": null,
   "id": "92edb5ab",
   "metadata": {},
   "outputs": [],
   "source": []
  },
  {
   "cell_type": "code",
   "execution_count": null,
   "id": "5f7c41e0",
   "metadata": {},
   "outputs": [],
   "source": [
    "%%bash -s $trgt $genome_path $reads_path\n",
    "\n",
    "trgt=$1\n",
    "genome=$2\n",
    "reads=$3\n",
    "\n",
    "sample=$(basename $reads)\n",
    "sample=${sample%.bam}\n",
    "\n",
    "$trgt \\\n",
    "  --genome $genome \\\n",
    "  --reads $reads \\\n",
    "  --repeats output/tair10_catalog.bed \\\n",
    "  --output-prefix output/$sample"
   ]
  },
  {
   "cell_type": "code",
   "execution_count": null,
   "id": "db5b5930",
   "metadata": {},
   "outputs": [],
   "source": []
  }
 ],
 "metadata": {
  "kernelspec": {
   "display_name": "Python 3 (ipykernel)",
   "language": "python",
   "name": "python3"
  },
  "language_info": {
   "codemirror_mode": {
    "name": "ipython",
    "version": 3
   },
   "file_extension": ".py",
   "mimetype": "text/x-python",
   "name": "python",
   "nbconvert_exporter": "python",
   "pygments_lexer": "ipython3",
   "version": "3.10.8"
  }
 },
 "nbformat": 4,
 "nbformat_minor": 5
}
