{
 "cells": [
  {
   "cell_type": "code",
   "execution_count": 16,
   "id": "ba9262a6-cf04-496c-be37-3a1cbf385723",
   "metadata": {},
   "outputs": [],
   "source": [
    "import os\n",
    "import json\n",
    "import scipy\n",
    "import pathlib\n",
    "import numpy as np\n",
    "from pandas import DataFrame\n",
    "import matplotlib.pyplot as plt\n",
    "import matplotlib.patches as patches\n",
    "\n",
    "%matplotlib inline\n",
    "plt.rcParams['figure.figsize'] = [16.5, 5]\n",
    "plt.rcParams['font.size'] = 12"
   ]
  },
  {
   "cell_type": "markdown",
   "id": "10fc01ff-8321-47b6-b720-c4d468f944e0",
   "metadata": {},
   "source": [
    "## Prepare inputs"
   ]
  },
  {
   "cell_type": "code",
   "execution_count": 18,
   "id": "904998a0-0fc8-4551-a41c-4ea47cf0bec9",
   "metadata": {},
   "outputs": [],
   "source": [
    "# TAIR10 reference genome\n",
    "genome_path = \"input/TAIR10_chr_all.fas.gz\"\n",
    "\n",
    "# Simple repeats from UCSC\n",
    "simple_repeats_path = \"input/tair10_simple_repeats.gz\"\n",
    "\n",
    "assert pathlib.Path(genome_path).is_file()\n",
    "assert pathlib.Path(simple_repeats_path).is_file()"
   ]
  },
  {
   "cell_type": "code",
   "execution_count": null,
   "id": "3a62c1d3-b2bc-49b2-8997-7bb860b81e19",
   "metadata": {},
   "outputs": [],
   "source": []
  },
  {
   "cell_type": "code",
   "execution_count": null,
   "id": "bb73ea8b-bdfd-45ab-b55c-11d3a0f65689",
   "metadata": {},
   "outputs": [],
   "source": []
  },
  {
   "cell_type": "code",
   "execution_count": 12,
   "id": "e2ea5bb4-d08d-49ce-9aac-885b4f0d98b8",
   "metadata": {},
   "outputs": [
    {
     "name": "stderr",
     "output_type": "stream",
     "text": [
      "--2023-09-06 19:01:36--  https://genome.ucsc.edu/cgi-bin/hgTables?hgsid=1676234720_AK2qhK3IwKd6PcMzmW5qoscZX17x&clade=hub_1936559&org=hub_1936559_Arabidopsis+thaliana+%28thale+cress%29&db=hub_1936559_araTha1&hgta_group=allTracks&hgta_track=hub_1936559_simpleRepeat&hgta_table=0&hgta_regionType=genome&position=chr1%3A7%2C482%2C906-7%2C500%2C390&hgta_outputType=primaryTable&hgta_outFileName=\n",
      "Resolving genome.ucsc.edu (genome.ucsc.edu)... 128.114.119.132, 128.114.119.131\n",
      "Connecting to genome.ucsc.edu (genome.ucsc.edu)|128.114.119.132|:443... connected.\n",
      "HTTP request sent, awaiting response... 200 OK\n",
      "Length: unspecified [text/html]\n",
      "Saving to: ‘simple_repeats.gz’\n",
      "\n",
      "     0K .......... .......... .......... .......... ..........  292K\n",
      "    50K ..........                                             53.7M=0.2s\n",
      "\n",
      "2023-09-06 19:01:38 (355 KB/s) - ‘simple_repeats.gz’ saved [62403]\n",
      "\n"
     ]
    }
   ],
   "source": [
    "%%bash\n",
    "\n",
    "genome=\"https://www.arabidopsis.org/download_files/Genes/TAIR10_genome_release/TAIR10_chromosome_files/TAIR10_chr_all.fas.gz\"\n",
    "simple_repeats=\"https://genome.ucsc.edu/cgi-bin/hgTables?hgsid=1676234720_AK2qhK3IwKd6PcMzmW5qoscZX17x&clade=hub_1936559&org=hub_1936559_Arabidopsis+thaliana+%28thale+cress%29&db=hub_1936559_araTha1&hgta_group=allTracks&hgta_track=hub_1936559_simpleRepeat&hgta_table=0&hgta_regionType=genome&position=chr1%3A7%2C482%2C906-7%2C500%2C390&hgta_outputType=primaryTable&hgta_outFileName=\"\n",
    "\n",
    "# Create a directory for temporary analysis files\n",
    "#mkdir scratch/\n",
    "\n",
    "# Download arabidopsis reference genome\n",
    "#wget $genome -P scratch/\n",
    "\n",
    "# Download a list of simple repeats\n",
    "wget $simple_repeats -O simple_repeats.gz -P scratch/\n",
    "\n"
   ]
  },
  {
   "cell_type": "code",
   "execution_count": null,
   "id": "0f6eb489-b263-468c-a6d4-035a5347d7cd",
   "metadata": {},
   "outputs": [],
   "source": []
  },
  {
   "cell_type": "code",
   "execution_count": null,
   "id": "f3f56f33-91ad-4f2b-a31c-1951acb49a95",
   "metadata": {},
   "outputs": [],
   "source": []
  },
  {
   "cell_type": "code",
   "execution_count": null,
   "id": "95f6af3a-cf61-4ae6-9411-934ff9777c66",
   "metadata": {},
   "outputs": [],
   "source": []
  },
  {
   "cell_type": "code",
   "execution_count": null,
   "id": "072c79a2-d561-4c09-9afa-846ae1a7a024",
   "metadata": {},
   "outputs": [],
   "source": []
  },
  {
   "cell_type": "code",
   "execution_count": null,
   "id": "f637f1d0-7d46-4807-bd24-68f0d1bc8ff4",
   "metadata": {},
   "outputs": [],
   "source": []
  }
 ],
 "metadata": {
  "kernelspec": {
   "display_name": "Python 3 (ipykernel)",
   "language": "python",
   "name": "python3"
  },
  "language_info": {
   "codemirror_mode": {
    "name": "ipython",
    "version": 3
   },
   "file_extension": ".py",
   "mimetype": "text/x-python",
   "name": "python",
   "nbconvert_exporter": "python",
   "pygments_lexer": "ipython3",
   "version": "3.10.12"
  }
 },
 "nbformat": 4,
 "nbformat_minor": 5
}
